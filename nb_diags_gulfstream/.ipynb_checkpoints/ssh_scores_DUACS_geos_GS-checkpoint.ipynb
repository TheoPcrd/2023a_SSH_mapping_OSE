{
 "cells": [
  {
   "cell_type": "markdown",
   "id": "6303907d",
   "metadata": {},
   "source": [
    "![header](../figures/logos_partenaires._cmems_se.jpg)"
   ]
  },
  {
   "cell_type": "markdown",
   "id": "063ccc61",
   "metadata": {},
   "source": [
    "# Gulf Stream: Benchmark DUACS sea surface height maps\n",
    " \n",
    "\n",
    "***\n",
    "**Authors:**  CLS & Datlas <br>\n",
    "**Copyright:** 2023 CLS & Datlas <br>\n",
    "**License:** MIT\n",
    "\n",
    "<div class=\"alert alert-block alert-success\">\n",
    "<h1><center>Gulf Stream: Benchmark of DUACS sea surface height maps</center></h1>\n",
    "<h5> The notebook aims to evaluate the sea surface height maps produced by the DUACS system. </h5>\n",
    "    <h5> These maps are equivalent to the SEALEVEL_GLO_PHY_L4_MY_008_047 product distributed by the Copernicus Marine Service, except that a nadir altimeter (SARAL/Altika, SEALEVEL_GLO_PHY_L3_MY_008_062 product) has been excluded from the mapping. </h5>\n",
    "        <h5> We provide below a demonstration of the validation of these maps against the independent SSH data from the Saral/AltiKa altimeter distributed by CMEMS </h5>\n",
    "</div>"
   ]
  },
  {
   "cell_type": "markdown",
   "id": "dba42761",
   "metadata": {},
   "source": [
    "***\n",
    "**General Note 1**: Execute each cell through the <button class=\"btn btn-default btn-xs\"><i class=\"icon-play fa fa-play\"></i></button> button from the top MENU (or keyboard shortcut `Shift` + `Enter`).<br>\n",
    "<br>\n",
    "**General Note 2**: If, for any reason, the kernel is not working anymore, in the top MENU, click on the <button class=\"btn btn-default btn-xs\"><i class=\"fa fa-repeat icon-repeat\"></i></button> button. Then, in the top MENU, click on \"Cell\" and select \"Run All Above Selected Cell\".<br>\n",
    "***\n",
    "\n",
    "\n",
    "<div class=\"alert alert-danger\" role=\"alert\">\n",
    "\n",
    "<h3>Learning outcomes</h3>\n",
    "\n",
    "At the end of this notebook you will know:\n",
    "<ul>\n",
    "  <li>How you can evaluated sea surface height maps with independent alongtrack data: statistical and spectral analysis</li>\n",
    "</ul>\n",
    "    \n",
    "</div>"
   ]
  },
  {
   "cell_type": "code",
   "execution_count": 1,
   "id": "c5ca6ffd",
   "metadata": {},
   "outputs": [],
   "source": [
    "from glob import glob\n",
    "import numpy as np\n",
    "import os"
   ]
  },
  {
   "cell_type": "code",
   "execution_count": null,
   "id": "4478fc8b",
   "metadata": {},
   "outputs": [],
   "source": [
    "import sys\n",
    "sys.path.append('..')\n",
    "from src.mod_plot import *\n",
    "from src.mod_stat import *\n",
    "from src.mod_spectral import *\n",
    "from src.mod_interp import *"
   ]
  },
  {
   "cell_type": "code",
   "execution_count": null,
   "id": "2cfb9fd9",
   "metadata": {},
   "outputs": [],
   "source": [
    "import logging\n",
    "logger = logging.getLogger()\n",
    "logger.setLevel(logging.INFO)"
   ]
  },
  {
   "cell_type": "markdown",
   "id": "90b7108d",
   "metadata": {},
   "source": [
    "<div class=\"alert alert-info\" role=\"alert\">\n",
    "\n",
    "<h2>0. Parameters</h2>\n",
    "\n",
    "</div>"
   ]
  },
  {
   "cell_type": "code",
   "execution_count": null,
   "id": "0246bbef",
   "metadata": {},
   "outputs": [],
   "source": [
    "time_min = '2019-01-01'                                        # time min for analysis\n",
    "time_max = '2019-12-31'                                        # time max for analysis\n",
    "output_dir = '../results'                                      # output directory path\n",
    "os.system(f'mkdir -p {output_dir}')\n",
    "\n",
    "# Gulf Stream region\n",
    "region = 'GS'\n",
    "lon_min = 295                                          # domain min longitude\n",
    "lon_max = 305                                          # domain max longitude\n",
    "lat_min = 33.                                          # domain min latitude\n",
    "lat_max = 43.                                          # domain max latitude\n",
    "box_lonlat = {'lon_min':lon_min,'lon_max':lon_max,'lat_min':lat_min,'lat_max':lat_max}\n",
    "\n",
    "method_name = 'DUACS'\n",
    "\n",
    "stat_output_filename = f'{output_dir}/stat_sla_duacs_geos_GS.nc'  # output statistical analysis filename\n",
    "lambda_min = 65.                                               # minimun spatial scale in kilometer to consider on the filtered signal\n",
    "lambda_max = 500.                                              # maximum spatial scale in kilometer to consider on the filtered signal\n",
    "psd_output_filename = f'{output_dir}/psd_sla_duacs_geos_GS.nc'    # output spectral analysis filename\n",
    "segment_lenght = 500.                                         # spectral parameer: along-track segment lenght in kilometer to consider in the spectral analysis"
   ]
  },
  {
   "cell_type": "markdown",
   "id": "7b0a6139",
   "metadata": {},
   "source": [
    "<div class=\"alert alert-info\" role=\"alert\">\n",
    "\n",
    "<h2>1. Input files</h2>\n",
    "\n",
    "</div>"
   ]
  },
  {
   "cell_type": "markdown",
   "id": "5d57e12d",
   "metadata": {},
   "source": [
    "## Sea Surface Height from Saral/AltiKa"
   ]
  },
  {
   "cell_type": "code",
   "execution_count": null,
   "id": "0601af50",
   "metadata": {},
   "outputs": [],
   "source": [
    "%%time\n",
    "list_of_file = sorted(glob('../data/independent_alongtrack/alg/2019/dt*'))\n",
    "ds_alg = xr.open_mfdataset(list_of_file, combine='nested', concat_dim='time')\n",
    "ds_alg = ds_alg.where((ds_alg.time >= np.datetime64(time_min)) & (ds_alg.time <=  np.datetime64(time_max)), drop=True)\n",
    "ds_alg = ds_alg.sortby('time')\n",
    "ds_alg"
   ]
  },
  {
   "cell_type": "markdown",
   "id": "cb488733",
   "metadata": {},
   "source": [
    "## Sea Surface Height maps to evaluate"
   ]
  },
  {
   "cell_type": "code",
   "execution_count": null,
   "id": "7983ae45",
   "metadata": {},
   "outputs": [],
   "source": [
    "%%time\n",
    "list_of_maps = sorted(glob('../data/maps/DUACS_global_allsat-alg/dt*'))\n",
    "ds_maps = xr.open_mfdataset(list_of_maps, combine='nested', concat_dim='time')\n",
    "ds_maps = ds_maps.sel(time=slice(time_min, time_max))\n",
    "\n",
    "from src.mod_compare import regional_zoom \n",
    "ds_maps = regional_zoom(ds_maps, [box_lonlat['lon_min'],box_lonlat['lon_max']], [box_lonlat['lat_min'],box_lonlat['lat_max']], namelon='longitude', namelat='latitude', change_lon=False)\n",
    "\n",
    "ds_maps"
   ]
  },
  {
   "cell_type": "markdown",
   "id": "69199abb",
   "metadata": {},
   "source": [
    "<div class=\"alert alert-info\" role=\"alert\">\n",
    "\n",
    "<h2>2. Statistical & Spectral Analysis </h2>\n",
    "\n",
    "</div>"
   ]
  },
  {
   "cell_type": "markdown",
   "id": "d204e927",
   "metadata": {},
   "source": [
    "## 2.1 Interpolate sea surface height maps onto along-track positions"
   ]
  },
  {
   "cell_type": "code",
   "execution_count": null,
   "id": "a62a2b2d",
   "metadata": {},
   "outputs": [],
   "source": [
    "ds_interp = run_interpolation(ds_maps, ds_alg)\n",
    "ds_interp = ds_interp.dropna('time')\n",
    "ds_interp"
   ]
  },
  {
   "cell_type": "markdown",
   "id": "00de41fc",
   "metadata": {},
   "source": [
    "## 2.2 Compute grid boxes statistics & statistics by regime (coastal, offshore low variability, offshore high variability)"
   ]
  },
  {
   "cell_type": "markdown",
   "id": "4cbc4fd1",
   "metadata": {},
   "source": [
    "Once the maps have been interpolated to the position of the along-track, it is possible to calculate different statistics on the time series SLA_alongtrack and SLA_maps. \n",
    "\n",
    "We propose below the following statistics: error variance maps (static by 1°x1° box), explained variance maps, temporal evolution of global error variance and explained variance. \n",
    "\n",
    "These statistics are also applied to the filtered signals focusing on the 65-500km scale range. A bandpass filter is applied before calculating the scores.  "
   ]
  },
  {
   "cell_type": "code",
   "execution_count": null,
   "id": "622d4a6e",
   "metadata": {},
   "outputs": [],
   "source": [
    "compute_stat_scores(ds_interp, lambda_min, lambda_max, stat_output_filename,method_name)"
   ]
  },
  {
   "cell_type": "code",
   "execution_count": null,
   "id": "f8189480",
   "metadata": {},
   "outputs": [],
   "source": [
    "# Plot gridded stats\n",
    "# Hvplot\n",
    "# plot_stat_score_map(stat_output_filename)\n",
    "# Matplotlib\n",
    "plot_stat_score_map_png(stat_output_filename,region=region,box_lonlat=box_lonlat_GS)"
   ]
  },
  {
   "cell_type": "code",
   "execution_count": null,
   "id": "96bad61e",
   "metadata": {
    "scrolled": false
   },
   "outputs": [],
   "source": [
    "plot_stat_score_timeseries(stat_output_filename)"
   ]
  },
  {
   "cell_type": "code",
   "execution_count": null,
   "id": "b3572cdb",
   "metadata": {},
   "outputs": [],
   "source": [
    "plot_stat_by_regimes(stat_output_filename)"
   ]
  },
  {
   "cell_type": "markdown",
   "id": "be8d895f",
   "metadata": {},
   "source": [
    "## 2.3 Compute Spectral scores"
   ]
  },
  {
   "cell_type": "code",
   "execution_count": null,
   "id": "88b3b266",
   "metadata": {},
   "outputs": [],
   "source": [
    "compute_psd_scores_v2(ds_interp, psd_output_filename, lenght_scale=segment_lenght,method_name=method_name)"
   ]
  },
  {
   "cell_type": "code",
   "execution_count": null,
   "id": "fb79db9f",
   "metadata": {},
   "outputs": [],
   "source": [
    "# Plot effective resolution\n",
    "# Hvplot\n",
    "# plot_effective_resolution(psd_output_filename)\n",
    "# Matplotlib\n",
    "plot_effective_resolution_png(psd_output_filename,region=region,box_lonlat=box_lonlat, change_lon=False)"
   ]
  },
  {
   "cell_type": "code",
   "execution_count": null,
   "id": "48e88aff",
   "metadata": {},
   "outputs": [],
   "source": [
    "plot_psd_scores(psd_output_filename)"
   ]
  },
  {
   "cell_type": "markdown",
   "id": "20fee813",
   "metadata": {},
   "source": [
    "The interactive plot above allows you to explore the spectral metrics by latitude / longitude box"
   ]
  },
  {
   "cell_type": "code",
   "execution_count": null,
   "id": "82803c66",
   "metadata": {},
   "outputs": [],
   "source": []
  }
 ],
 "metadata": {
  "kernelspec": {
   "display_name": "env-dc-global-ose0",
   "language": "python",
   "name": "env-dc-global-ose0"
  },
  "language_info": {
   "codemirror_mode": {
    "name": "ipython",
    "version": 3
   },
   "file_extension": ".py",
   "mimetype": "text/x-python",
   "name": "python",
   "nbconvert_exporter": "python",
   "pygments_lexer": "ipython3",
   "version": "3.10.11"
  }
 },
 "nbformat": 4,
 "nbformat_minor": 5
}

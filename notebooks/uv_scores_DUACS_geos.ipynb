{
 "cells": [
  {
   "cell_type": "code",
   "execution_count": null,
   "id": "2d7ed175-f35d-4d33-a694-38f007f8d4b8",
   "metadata": {},
   "outputs": [],
   "source": [
    "from glob import glob\n",
    "import numpy as np\n",
    "import os"
   ]
  },
  {
   "cell_type": "code",
   "execution_count": null,
   "id": "5b2d4239-ace7-4ccc-8b1c-a1fc4138bf08",
   "metadata": {},
   "outputs": [],
   "source": [
    "import sys\n",
    "sys.path.append('..')\n",
    "from src.mod_plot import *\n",
    "from src.mod_stat import *\n",
    "from src.mod_spectral import *"
   ]
  },
  {
   "cell_type": "code",
   "execution_count": null,
   "id": "2010d8fd-f8b9-4131-b82f-cb99cd22d800",
   "metadata": {},
   "outputs": [],
   "source": [
    "import logging\n",
    "logger = logging.getLogger()\n",
    "logger.setLevel(logging.INFO)"
   ]
  },
  {
   "cell_type": "code",
   "execution_count": null,
   "id": "83545e37-0cf8-4183-a984-1155d093485b",
   "metadata": {},
   "outputs": [],
   "source": [
    "time_min = '2019-01-01'\n",
    "time_max = '2019-12-31'\n",
    "\n",
    "output_dir = '../results'\n",
    "os.system(f'mkdir -p {output_dir}')\n",
    "stat_output_filename = f'{output_dir}/stat_uv_duacs_geos.nc'\n",
    "lambda_min = 65.\n",
    "lambda_max = 500.\n",
    "\n",
    "psd_output_filename = f'{output_dir}/psd_uv_duacs_geos.nc'\n",
    "segment_lenght = 1000. # km\n",
    "lenght_scale=np.timedelta64(20, 'D')"
   ]
  },
  {
   "cell_type": "code",
   "execution_count": null,
   "id": "8649144e-2062-4ffd-8a5f-776a0d0b4632",
   "metadata": {},
   "outputs": [],
   "source": []
  },
  {
   "cell_type": "code",
   "execution_count": null,
   "id": "ca780333-95fc-4778-bd71-71d1c356e214",
   "metadata": {},
   "outputs": [],
   "source": []
  },
  {
   "cell_type": "code",
   "execution_count": null,
   "id": "61c49ac1-53ed-45dc-a4ff-c3e3073dec6e",
   "metadata": {},
   "outputs": [],
   "source": [
    "filenames_drifters = sorted(glob('/work/ALT/swot/aval/wisa/data_challenge_ose/data/independent_drifters/uv_drifters_*.nc'))"
   ]
  },
  {
   "cell_type": "code",
   "execution_count": null,
   "id": "dd78850f-5aec-4db8-a94d-acedf97e3c57",
   "metadata": {},
   "outputs": [],
   "source": [
    "ds_drifter = xr.open_mfdataset(filenames_drifters, combine='nested', concat_dim='time')\n",
    "ds_drifter"
   ]
  },
  {
   "cell_type": "code",
   "execution_count": null,
   "id": "10f86ec1-ca36-4232-ba3a-55b161c9dee1",
   "metadata": {},
   "outputs": [],
   "source": []
  },
  {
   "cell_type": "code",
   "execution_count": null,
   "id": "25048e19-405f-492d-a118-2ba0f2adcb8c",
   "metadata": {},
   "outputs": [],
   "source": [
    "list_of_maps = sorted(glob('/work/ALT/swot/aval/wisa/data_challenge_ose/data/maps/DUACS_global_allsat-alg/*.nc'))\n",
    "ds_maps = xr.open_mfdataset(list_of_maps, combine='nested', concat_dim='time')\n",
    "ds_maps = ds_maps.sel(time=slice(time_min, time_max))\n",
    "ds_maps"
   ]
  },
  {
   "cell_type": "code",
   "execution_count": null,
   "id": "5cbe06b5-4db1-40b0-b022-f6618a41e176",
   "metadata": {},
   "outputs": [],
   "source": []
  },
  {
   "cell_type": "code",
   "execution_count": null,
   "id": "988669f4-00db-45ad-b947-f33677fa5c66",
   "metadata": {},
   "outputs": [],
   "source": [
    "ds_interp = run_interpolation_drifters(ds_maps, ds_drifter, time_min, time_max)\n",
    "ds_interp = ds_interp.dropna('time')\n",
    "ds_interp = ds_interp.sortby('time')\n",
    "ds_interp"
   ]
  },
  {
   "cell_type": "code",
   "execution_count": null,
   "id": "966b0456-28e7-40e5-aa18-f225dfe80ba0",
   "metadata": {},
   "outputs": [],
   "source": [
    "compute_stat_scores_uv(ds_interp, stat_output_filename)"
   ]
  },
  {
   "cell_type": "code",
   "execution_count": null,
   "id": "692c4363-1308-439f-8665-60ff08e99645",
   "metadata": {},
   "outputs": [],
   "source": [
    "plot_stat_score_map_uv(stat_output_filename)"
   ]
  },
  {
   "cell_type": "code",
   "execution_count": null,
   "id": "68027e7c-0928-446a-8ea1-087a7019c28f",
   "metadata": {},
   "outputs": [],
   "source": [
    "compute_psd_scores_current(ds_interp, psd_output_filename)#, lenght_scale=segment_lenght)"
   ]
  },
  {
   "cell_type": "code",
   "execution_count": null,
   "id": "204cc8d9-52c6-4d96-9519-7ab24639acf0",
   "metadata": {},
   "outputs": [],
   "source": []
  },
  {
   "cell_type": "code",
   "execution_count": null,
   "id": "e983a8f5-8d11-4d94-9e9b-ca218cc3c6e5",
   "metadata": {},
   "outputs": [],
   "source": []
  },
  {
   "cell_type": "code",
   "execution_count": null,
   "id": "ec7b173e-6176-48c9-812d-c815764b55a9",
   "metadata": {},
   "outputs": [],
   "source": []
  },
  {
   "cell_type": "code",
   "execution_count": null,
   "id": "91fb13ba-6c02-4884-8730-ab8c5a44e66b",
   "metadata": {},
   "outputs": [],
   "source": [
    "plot_stat_score_timeseries(stat_output_filename)"
   ]
  },
  {
   "cell_type": "code",
   "execution_count": null,
   "id": "49283c75-e868-416b-acf1-f70e2d44a8f2",
   "metadata": {},
   "outputs": [],
   "source": [
    "compute_psd_scores(ds_interp, psd_output_filename, lenght_scale=segment_lenght)"
   ]
  },
  {
   "cell_type": "code",
   "execution_count": null,
   "id": "0e31fe42-a979-4b99-8ef9-e388b580d37c",
   "metadata": {},
   "outputs": [],
   "source": [
    "plot_effective_resolution(psd_output_filename)"
   ]
  },
  {
   "cell_type": "code",
   "execution_count": null,
   "id": "f6a9589f-9be4-424a-9767-cf5c4cd6eaba",
   "metadata": {},
   "outputs": [],
   "source": [
    "plot_psd_scores(psd_output_filename)"
   ]
  },
  {
   "cell_type": "code",
   "execution_count": null,
   "id": "6e9276cf-4de0-4bf3-bf82-ba5f7ad82819",
   "metadata": {},
   "outputs": [],
   "source": []
  }
 ],
 "metadata": {
  "kernelspec": {
   "display_name": "Pangeo Stable",
   "language": "python",
   "name": "pangeo_stable"
  },
  "language_info": {
   "codemirror_mode": {
    "name": "ipython",
    "version": 3
   },
   "file_extension": ".py",
   "mimetype": "text/x-python",
   "name": "python",
   "nbconvert_exporter": "python",
   "pygments_lexer": "ipython3",
   "version": "3.9.13"
  }
 },
 "nbformat": 4,
 "nbformat_minor": 5
}

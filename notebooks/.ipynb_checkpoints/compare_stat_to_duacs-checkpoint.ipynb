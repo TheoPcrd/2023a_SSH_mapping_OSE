{
 "cells": [
  {
   "cell_type": "code",
   "execution_count": null,
   "id": "773fd0ff-247a-486d-abfd-5af99e06288b",
   "metadata": {},
   "outputs": [],
   "source": [
    "import hvplot.xarray\n",
    "import xarray as xr\n",
    "import cartopy.crs as ccrs"
   ]
  },
  {
   "cell_type": "code",
   "execution_count": null,
   "id": "a3535377-df90-40f6-8596-0dafb77b4dbb",
   "metadata": {},
   "outputs": [],
   "source": [
    "output_dir = '../results'\n",
    "duacs_geos_stat_filename = f'{output_dir}/stat_sla_duacs_geos.nc'\n",
    "duacs_geos_psd_filename = f'{output_dir}/psd_sla_duacs_geos.nc'"
   ]
  },
  {
   "cell_type": "code",
   "execution_count": null,
   "id": "2ebdfb92-f848-406a-a0d1-8bc97c51927e",
   "metadata": {},
   "outputs": [],
   "source": [
    "miost_geos_stat_filename = f'{output_dir}/stat_sla_miost_geos.nc'\n",
    "miost_geos_psd_filename = f'{output_dir}/psd_sla_miost_geos.nc'"
   ]
  },
  {
   "cell_type": "code",
   "execution_count": null,
   "id": "4eedd5fc-8174-4f0a-a804-f2fd0eb8bb49",
   "metadata": {},
   "outputs": [],
   "source": [
    "miost_geos_eqwaves_barotrop_stat_filename = f'{output_dir}/stat_sla_miost_geos_eqwaves_barotrop.nc'\n",
    "miost_geos_eqwaves_barotrop_psd_filename = f'{output_dir}/psd_sla_miost_geos_eqwaves_barotrop.nc'"
   ]
  },
  {
   "cell_type": "code",
   "execution_count": null,
   "id": "aaccd86e-cf46-4a78-ba62-4576c989601d",
   "metadata": {},
   "outputs": [],
   "source": [
    "def compare_stat_score_map(study_filename, ref_filename):\n",
    "    \n",
    "    ds_ref_binning_allscale = xr.open_dataset(ref_filename, group='all_scale')\n",
    "    ds_ref_binning_filtered = xr.open_dataset(ref_filename, group='filtered')\n",
    "    \n",
    "    explained_variance_ref_all_scale = 1 - ds_ref_binning_allscale['variance_mapping_err']/ds_ref_binning_allscale['variance_track']\n",
    "    explained_variance_ref_filtered = 1 - ds_ref_binning_filtered['variance_mapping_err']/ds_ref_binning_filtered['variance_track']\n",
    "    \n",
    "    ds_study_binning_allscale = xr.open_dataset(study_filename, group='all_scale')\n",
    "    ds_study_binning_filtered = xr.open_dataset(study_filename, group='filtered')\n",
    "    \n",
    "    explained_variance_study_all_scale = 1 - ds_study_binning_allscale['variance_mapping_err']/ds_study_binning_allscale['variance_track']\n",
    "    explained_variance_study_filtered = 1 - ds_study_binning_filtered['variance_mapping_err']/ds_study_binning_filtered['variance_track']\n",
    "    \n",
    "    \n",
    "    \n",
    "    fig1 = ds_ref_binning_allscale['variance_mapping_err'].hvplot.quadmesh(x='lon',\n",
    "                                                              y='lat',\n",
    "                                                              clim=(0, 0.002),\n",
    "                                                              cmap='Reds',\n",
    "                                                              rasterize=True,\n",
    "                                                              title='Reference Error variance [All scale]')\n",
    "    \n",
    "    fig2 = ds_ref_binning_filtered['variance_mapping_err'].hvplot.quadmesh(x='lon',\n",
    "                                                              y='lat',\n",
    "                                                              clim=(0, 0.002),\n",
    "                                                              cmap='Reds',\n",
    "                                                              rasterize=True,\n",
    "                                                              title='Reference Error variance [65:500km]')\n",
    "    \n",
    "    fig3 = (100*(ds_study_binning_allscale['variance_mapping_err'] - ds_ref_binning_allscale['variance_mapping_err'])/ds_ref_binning_allscale['variance_mapping_err']).hvplot.quadmesh(x='lon',\n",
    "                                                              y='lat',\n",
    "                                                              clim=(-20, 20),\n",
    "                                                              cmap='coolwarm',\n",
    "                                                              rasterize=True,\n",
    "                                                              title='Reference Error variance [All scale]')\n",
    "    \n",
    "    fig4 = (100*(ds_study_binning_filtered['variance_mapping_err'] - ds_ref_binning_filtered['variance_mapping_err'])/ds_ref_binning_filtered['variance_mapping_err']).hvplot.quadmesh(x='lon',\n",
    "                                                              y='lat',\n",
    "                                                              clim=(-20, 20),\n",
    "                                                              cmap='coolwarm',\n",
    "                                                              rasterize=True,\n",
    "                                                              title='Reference Error variance [65:500km]')\n",
    "    \n",
    "    fig5 = explained_variance_ref_all_scale.hvplot.quadmesh(x='lon',\n",
    "                                                              y='lat',\n",
    "                                                              clim=(0, 1),\n",
    "                                                              cmap='RdYlGn',\n",
    "                                                              rasterize=True,\n",
    "                                                              title='Reference Explained variance [All scale]')\n",
    "    \n",
    "    fig6 = explained_variance_ref_filtered.hvplot.quadmesh(x='lon',\n",
    "                                                              y='lat',\n",
    "                                                              clim=(0, 1),\n",
    "                                                              cmap='RdYlGn',\n",
    "                                                              rasterize=True,\n",
    "                                                              title='Reference Explained variance [65:500km]')\n",
    "    \n",
    "    fig7 = (explained_variance_study_all_scale - explained_variance_ref_all_scale).hvplot.quadmesh(x='lon',\n",
    "                                                              y='lat',\n",
    "                                                              clim=(-0.2, 0.2),\n",
    "                                                              cmap='coolwarm_r',\n",
    "                                                              rasterize=True,\n",
    "                                                              title='Gain(+)/Loss(-) Explained variance [All scale]')\n",
    "    \n",
    "    fig8 = (explained_variance_study_filtered - explained_variance_ref_filtered).hvplot.quadmesh(x='lon',\n",
    "                                                              y='lat',\n",
    "                                                              clim=(-0.2, 0.2),\n",
    "                                                              cmap='coolwarm_r',\n",
    "                                                              rasterize=True,\n",
    "                                                              title='Gain(+)/Loss(-) Explained variance [65:500km]')\n",
    "    \n",
    "#     fig5 = ds_binning_allscale['rmse'].hvplot.quadmesh(x='lon',\n",
    "#                                                               y='lat',\n",
    "#                                                               clim=(0, 0.1),\n",
    "#                                                               cmap='Reds',\n",
    "#                                                               rasterize=True,\n",
    "#                                                               title='RMSE [All scale]')\n",
    "    \n",
    "#     fig6 = ds_binning_filtered['rmse'].hvplot.quadmesh(x='lon',\n",
    "#                                                               y='lat',\n",
    "#                                                               clim=(0, 0.1),\n",
    "#                                                               cmap='Reds',\n",
    "#                                                               rasterize=True,\n",
    "#                                                               title='RMSE [65:500km]')\n",
    "    \n",
    "    return (fig1 + fig2 + fig3 + fig4 + fig5 + fig6 +fig7 +fig8).cols(2)"
   ]
  },
  {
   "cell_type": "code",
   "execution_count": null,
   "id": "bdf29662-3821-42c9-b071-9827c038507f",
   "metadata": {},
   "outputs": [],
   "source": [
    "compare_stat_score_map(miost_geos_stat_filename, duacs_geos_stat_filename)"
   ]
  },
  {
   "cell_type": "code",
   "execution_count": null,
   "id": "7352b7bc-f594-4581-bd78-8e5933d8b842",
   "metadata": {},
   "outputs": [],
   "source": [
    "compare_stat_score_map(miost_geos_eqwaves_barotrop_stat_filename, duacs_geos_stat_filename)"
   ]
  },
  {
   "cell_type": "code",
   "execution_count": null,
   "id": "ccf63295-4ef7-4ce9-b482-2e998990b387",
   "metadata": {},
   "outputs": [],
   "source": [
    "compare_stat_score_map(miost_geos_eqwaves_barotrop_stat_filename, miost_geos_stat_filename)"
   ]
  },
  {
   "cell_type": "code",
   "execution_count": null,
   "id": "53e5e304-479c-4855-98de-a1765756ee82",
   "metadata": {},
   "outputs": [],
   "source": []
  },
  {
   "cell_type": "code",
   "execution_count": null,
   "id": "bfb754c3-bc1c-4a8a-bb6c-58b49d01bc61",
   "metadata": {},
   "outputs": [],
   "source": [
    "def compare_psd_score(study_filename, ref_filename):\n",
    "    \n",
    "    ds_ref = xr.open_dataset(ref_filename)\n",
    "    ds_study = xr.open_dataset(study_filename)\n",
    "    \n",
    "    fig0 = ds_ref.effective_resolution.hvplot.quadmesh(x='lon', \n",
    "                                                   y='lat', \n",
    "                                                   cmap='Spectral_r', \n",
    "                                                   clim=(100, 500), \n",
    "                                                   title='Effective resolution [km]',\n",
    "                                                   rasterize=True, \n",
    "                                                   projection=ccrs.PlateCarree(), \n",
    "                                                   project=True, \n",
    "                                                   geo=True, \n",
    "                                                   coastline=True)\n",
    "    \n",
    "    fig1 = (100*(ds_study.effective_resolution - ds_ref.effective_resolution)/ds_ref.effective_resolution).hvplot.quadmesh(x='lon', \n",
    "                                                   y='lat', \n",
    "                                                   cmap='coolwarm', \n",
    "                                                   clim=(-20, 20), \n",
    "                                                   title='Gain(-)/loss(+) Effective resolution [%]',\n",
    "                                                   rasterize=True, \n",
    "                                                   projection=ccrs.PlateCarree(), \n",
    "                                                   project=True, \n",
    "                                                   geo=True, \n",
    "                                                   coastline=True)\n",
    "    \n",
    "    return (fig0 + fig1).cols(1)"
   ]
  },
  {
   "cell_type": "code",
   "execution_count": null,
   "id": "d2335f8f-9ae1-4964-b830-af712f0c2da6",
   "metadata": {},
   "outputs": [],
   "source": [
    "compare_psd_score(miost_geos_psd_filename, duacs_geos_psd_filename)"
   ]
  },
  {
   "cell_type": "code",
   "execution_count": null,
   "id": "cc1e09be-fef8-4b3c-bc53-02093d960dda",
   "metadata": {},
   "outputs": [],
   "source": [
    "compare_psd_score(miost_geos_eqwaves_barotrop_psd_filename, duacs_geos_psd_filename)"
   ]
  },
  {
   "cell_type": "code",
   "execution_count": null,
   "id": "6d3f7060-f54d-49bd-a1bb-d031e0acb175",
   "metadata": {},
   "outputs": [],
   "source": []
  }
 ],
 "metadata": {
  "kernelspec": {
   "display_name": "Pangeo Stable",
   "language": "python",
   "name": "pangeo_stable"
  },
  "language_info": {
   "codemirror_mode": {
    "name": "ipython",
    "version": 3
   },
   "file_extension": ".py",
   "mimetype": "text/x-python",
   "name": "python",
   "nbconvert_exporter": "python",
   "pygments_lexer": "ipython3",
   "version": "3.9.13"
  }
 },
 "nbformat": 4,
 "nbformat_minor": 5
}

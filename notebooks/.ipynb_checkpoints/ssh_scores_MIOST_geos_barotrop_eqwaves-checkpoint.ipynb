{
 "cells": [
  {
   "cell_type": "code",
   "execution_count": null,
   "id": "2d7ed175-f35d-4d33-a694-38f007f8d4b8",
   "metadata": {},
   "outputs": [],
   "source": [
    "from glob import glob\n",
    "import numpy as np\n",
    "import os"
   ]
  },
  {
   "cell_type": "code",
   "execution_count": null,
   "id": "5b2d4239-ace7-4ccc-8b1c-a1fc4138bf08",
   "metadata": {},
   "outputs": [],
   "source": [
    "import sys\n",
    "sys.path.append('..')\n",
    "from src.mod_plot import *\n",
    "from src.mod_stat import *\n",
    "from src.mod_spectral import *"
   ]
  },
  {
   "cell_type": "code",
   "execution_count": null,
   "id": "2010d8fd-f8b9-4131-b82f-cb99cd22d800",
   "metadata": {},
   "outputs": [],
   "source": [
    "import logging\n",
    "logger = logging.getLogger()\n",
    "logger.setLevel(logging.INFO)"
   ]
  },
  {
   "cell_type": "code",
   "execution_count": null,
   "id": "83545e37-0cf8-4183-a984-1155d093485b",
   "metadata": {},
   "outputs": [],
   "source": [
    "time_min = '2019-01-01'\n",
    "time_max = '2019-12-31'\n",
    "\n",
    "output_dir = '../results'\n",
    "os.system(f'mkdir -p {output_dir}')\n",
    "stat_output_filename = f'{output_dir}/stat_sla_miost_geos_eqwaves_barotrop.nc'\n",
    "lambda_min = 65.\n",
    "lambda_max = 500.\n",
    "\n",
    "psd_output_filename = f'{output_dir}/psd_sla_miost_geos_eqwaves_barotrop.nc'\n",
    "segment_lenght = 1000. # km"
   ]
  },
  {
   "cell_type": "code",
   "execution_count": null,
   "id": "61c49ac1-53ed-45dc-a4ff-c3e3073dec6e",
   "metadata": {},
   "outputs": [],
   "source": [
    "list_of_file = sorted(glob('/work/ALT/swot/aval/wisa/data_challenge_ose/data/independent_alongtrack/alg/2019/*.nc'))\n",
    "ds_alg = xr.open_mfdataset(list_of_file, combine='nested', concat_dim='time')\n",
    "ds_alg = ds_alg.where((ds_alg.time >= np.datetime64(time_min)) & (ds_alg.time <=  np.datetime64(time_max)), drop=True)\n",
    "ds_alg = ds_alg.sortby('time')\n",
    "ds_alg"
   ]
  },
  {
   "cell_type": "code",
   "execution_count": null,
   "id": "25048e19-405f-492d-a118-2ba0f2adcb8c",
   "metadata": {},
   "outputs": [],
   "source": [
    "list_of_maps = sorted(glob('/work/ALT/swot/aval/wisa/data_challenge_ose/data/maps/MIOST_geos_barotrop_eqwaves_global_allsat-alg/*.nc'))\n",
    "ds_maps = xr.open_mfdataset(list_of_maps, combine='nested', concat_dim='time')\n",
    "ds_maps = ds_maps.sel(time=slice(time_min, time_max))\n",
    "ds_maps"
   ]
  },
  {
   "cell_type": "code",
   "execution_count": null,
   "id": "988669f4-00db-45ad-b947-f33677fa5c66",
   "metadata": {},
   "outputs": [],
   "source": []
  },
  {
   "cell_type": "code",
   "execution_count": null,
   "id": "d7d5377d-6366-4693-9f83-89b4b4dd6d19",
   "metadata": {},
   "outputs": [],
   "source": [
    "compute_stat_scores(ds_maps, ds_alg, lambda_min, lambda_max, stat_output_filename)"
   ]
  },
  {
   "cell_type": "code",
   "execution_count": null,
   "id": "3cc95f45-43c0-430f-8f05-13662861aee4",
   "metadata": {},
   "outputs": [],
   "source": [
    "plot_stat_score_map(stat_output_filename)"
   ]
  },
  {
   "cell_type": "code",
   "execution_count": null,
   "id": "29b7791a-be06-4a1f-a653-0505db5f4889",
   "metadata": {},
   "outputs": [],
   "source": [
    "plot_stat_score_timeseries(stat_output_filename)"
   ]
  },
  {
   "cell_type": "code",
   "execution_count": null,
   "id": "49283c75-e868-416b-acf1-f70e2d44a8f2",
   "metadata": {},
   "outputs": [],
   "source": [
    "compute_psd_scores(ds_maps, ds_alg, psd_output_filename, lenght_scale=segment_lenght)"
   ]
  },
  {
   "cell_type": "code",
   "execution_count": null,
   "id": "0e31fe42-a979-4b99-8ef9-e388b580d37c",
   "metadata": {},
   "outputs": [],
   "source": [
    "plot_effective_resolution(psd_output_filename)"
   ]
  },
  {
   "cell_type": "code",
   "execution_count": null,
   "id": "f6a9589f-9be4-424a-9767-cf5c4cd6eaba",
   "metadata": {},
   "outputs": [],
   "source": [
    "plot_psd_scores(psd_output_filename)"
   ]
  },
  {
   "cell_type": "code",
   "execution_count": null,
   "id": "7293c56d-43ec-4ede-b6d5-ca1f3e9b30e7",
   "metadata": {},
   "outputs": [],
   "source": []
  }
 ],
 "metadata": {
  "kernelspec": {
   "display_name": "Pangeo Stable",
   "language": "python",
   "name": "pangeo_stable"
  },
  "language_info": {
   "codemirror_mode": {
    "name": "ipython",
    "version": 3
   },
   "file_extension": ".py",
   "mimetype": "text/x-python",
   "name": "python",
   "nbconvert_exporter": "python",
   "pygments_lexer": "ipython3",
   "version": "3.9.13"
  }
 },
 "nbformat": 4,
 "nbformat_minor": 5
}
